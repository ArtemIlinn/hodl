{
 "cells": [
  {
   "cell_type": "code",
   "execution_count": 1,
   "metadata": {
    "collapsed": true,
    "pycharm": {
     "name": "#%%\n"
    }
   },
   "outputs": [],
   "source": [
    "import pandas as pd\n",
    "import numpy as np\n",
    "import matplotlib.pyplot as plt"
   ]
  },
  {
   "cell_type": "code",
   "execution_count": 2,
   "outputs": [],
   "source": [
    "gazp = pd.read_csv('hodl-main/HODL_Project-Parser_Data/gazprom_df.csv')\n",
    "mgnt = pd.read_csv('hodl-main/HODL_Project-Parser_Data/magnit_df.csv')\n",
    "sber = pd.read_csv('hodl-main/HODL_Project-Parser_Data/sber_df.csv')\n",
    "yndx = pd.read_csv('hodl-main/HODL_Project-Parser_Data/yandex_df.csv')"
   ],
   "metadata": {
    "collapsed": false,
    "pycharm": {
     "name": "#%%\n"
    }
   }
  },
  {
   "cell_type": "code",
   "execution_count": 3,
   "outputs": [
    {
     "data": {
      "text/plain": "   id       username                                               post ticker\n0   0  Сергей Аноним  1. Компания ужасно (подчёркиваю, ужасно) недоо...   GAZP\n1   1     Константин  Константин, тарьте, кто вам не даёт то? Для че...   GAZP\n2   2     Константин  Константин, тарьте, кто вам не даёт то? Для че...   GAZP\n3   3         Bablos  1. Компания ужасно (подчёркиваю, ужасно) недоо...   GAZP\n4   4      UshiSlona  на dohod.ru ожидают, что ГП выдаст полугодовые...   GAZP",
      "text/html": "<div>\n<style scoped>\n    .dataframe tbody tr th:only-of-type {\n        vertical-align: middle;\n    }\n\n    .dataframe tbody tr th {\n        vertical-align: top;\n    }\n\n    .dataframe thead th {\n        text-align: right;\n    }\n</style>\n<table border=\"1\" class=\"dataframe\">\n  <thead>\n    <tr style=\"text-align: right;\">\n      <th></th>\n      <th>id</th>\n      <th>username</th>\n      <th>post</th>\n      <th>ticker</th>\n    </tr>\n  </thead>\n  <tbody>\n    <tr>\n      <th>0</th>\n      <td>0</td>\n      <td>Сергей Аноним</td>\n      <td>1. Компания ужасно (подчёркиваю, ужасно) недоо...</td>\n      <td>GAZP</td>\n    </tr>\n    <tr>\n      <th>1</th>\n      <td>1</td>\n      <td>Константин</td>\n      <td>Константин, тарьте, кто вам не даёт то? Для че...</td>\n      <td>GAZP</td>\n    </tr>\n    <tr>\n      <th>2</th>\n      <td>2</td>\n      <td>Константин</td>\n      <td>Константин, тарьте, кто вам не даёт то? Для че...</td>\n      <td>GAZP</td>\n    </tr>\n    <tr>\n      <th>3</th>\n      <td>3</td>\n      <td>Bablos</td>\n      <td>1. Компания ужасно (подчёркиваю, ужасно) недоо...</td>\n      <td>GAZP</td>\n    </tr>\n    <tr>\n      <th>4</th>\n      <td>4</td>\n      <td>UshiSlona</td>\n      <td>на dohod.ru ожидают, что ГП выдаст полугодовые...</td>\n      <td>GAZP</td>\n    </tr>\n  </tbody>\n</table>\n</div>"
     },
     "execution_count": 3,
     "metadata": {},
     "output_type": "execute_result"
    }
   ],
   "source": [
    "gazp.head()"
   ],
   "metadata": {
    "collapsed": false,
    "pycharm": {
     "name": "#%%\n"
    }
   }
  },
  {
   "cell_type": "code",
   "execution_count": 4,
   "outputs": [],
   "source": [
    "tickers = [gazp,\n",
    "           mgnt,\n",
    "           sber,\n",
    "           yndx\n",
    "           ]"
   ],
   "metadata": {
    "collapsed": false,
    "pycharm": {
     "name": "#%%\n"
    }
   }
  },
  {
   "cell_type": "code",
   "execution_count": 5,
   "outputs": [],
   "source": [
    "gazp_voices = set(gazp.username) #.unique()\n",
    "mgnt_voices = set(mgnt.username)\n",
    "sber_voices = set(sber.username)\n",
    "yndx_voices = set(yndx.username)"
   ],
   "metadata": {
    "collapsed": false,
    "pycharm": {
     "name": "#%%\n"
    }
   }
  },
  {
   "cell_type": "code",
   "execution_count": 6,
   "outputs": [
    {
     "data": {
      "text/plain": "{'Amigos',\n 'Andrey Da',\n 'Anna Belaya',\n 'Anton Palyhc',\n 'Auximen',\n 'Belarus',\n 'BeyG',\n 'Conquistador',\n 'Dmitriklim',\n 'Erenbur',\n 'Evgeny Kornev',\n 'Finam',\n 'Finmentor',\n 'Iosif Pipkin',\n 'Kir',\n 'KrumBumBes',\n 'Kurono',\n 'Lidte',\n 'Market Power',\n 'Maxkurs',\n 'Niccolo',\n 'Nordstream',\n 'PAPA SI PEREVOPLASHENNIY',\n 'PROFITOleg',\n 'R B',\n 'Razb0rka',\n 'Sianuk',\n 'Smart Investors',\n 'Square',\n 'Starl',\n 'Territory of Trading',\n 'Unsaid_and_dirty',\n 'Utkonos',\n 'Va Chen',\n 'ValeraShelomov',\n 'Voroshilov095',\n 'Wassiy',\n 'XXX★',\n 'baobab',\n 'bufu',\n 'conveyer',\n 'dimkaone1',\n 'drbv',\n 'drumer',\n 'greedy_gnom',\n 'investorRF52',\n 'khornickjaadle',\n 'mar',\n 'master1',\n 'neu',\n 'stanislava',\n 'swapps',\n 'vadim80',\n 'zx xc',\n 'Абросимов Павел',\n 'Александр Осипов',\n 'Александр Сережкин',\n 'Алексей',\n 'Алексей Бицев',\n 'Алексей Бор',\n 'Али Картоев',\n 'Амиран',\n 'Андрей Башкатов',\n 'Антон Харламов',\n 'Артём',\n 'БИРЖЕВОЙ МАКЛЕР',\n 'Бриньёл',\n 'Вася Баффет',\n 'Виктор Вебер',\n 'Виктор Петров',\n 'Вклад в Будущее',\n 'Владимир Литвинов',\n 'Владимир Погорелов',\n 'Воронов Дмитрий',\n 'Все Верно',\n 'Гоша Фомич',\n 'Денис Волков',\n 'Дмитрий',\n 'Дмитрий Абраменко',\n 'Дмитрий Лактионов',\n 'Дмитрий М',\n 'Задвигая ИнвесТелегу',\n 'Иван Николаевич',\n 'Иванов М.',\n 'Игорь Терещенков',\n 'Йолли Пукинен',\n 'Карим Тактуров',\n 'Коммерсантъ',\n 'Константин Двинский',\n 'Константин Дубровин',\n 'Ленивый инвестор',\n 'Максим',\n 'Максим Александрович',\n 'Марэк',\n 'Метод №5',\n 'Мираж',\n 'Михаил',\n 'Михалыч',\n 'Мои Инвестиции',\n 'Национальное Достояние',\n 'Николай Иванов',\n 'Николай Панасенко',\n 'Олег Дубинский',\n 'Павел Хадалов',\n 'Патриот, но не идиот',\n 'Пользователь Googl',\n 'Расим Касимов',\n 'Редактор Боб',\n 'Роман',\n 'Роман Жмак',\n 'Роман Ранний',\n 'Сергей',\n 'Сергей Пирогов',\n 'Станислав Швецов',\n 'Степан Грозный',\n 'Тимофей Мартынов',\n 'Цаплин Сергей',\n 'Эдуард Лоскутов',\n 'Юрий',\n 'Юрий Близорукий',\n 'Яндекс',\n 'юрий',\n '✔  ⓈⒺⓇⒼⒾⓄ:Ⓩ'}"
     },
     "execution_count": 6,
     "metadata": {},
     "output_type": "execute_result"
    }
   ],
   "source": [
    "yndx_voices"
   ],
   "metadata": {
    "collapsed": false,
    "pycharm": {
     "name": "#%%\n"
    }
   }
  },
  {
   "cell_type": "code",
   "execution_count": 7,
   "outputs": [],
   "source": [
    "ticker_voices = [\n",
    "                 gazp_voices,\n",
    "                 mgnt_voices,\n",
    "                 sber_voices,\n",
    "                 yndx_voices\n",
    "                 ]\n",
    "\n",
    "tickers_num = len(ticker_voices)"
   ],
   "metadata": {
    "collapsed": false,
    "pycharm": {
     "name": "#%%\n"
    }
   }
  },
  {
   "cell_type": "code",
   "execution_count": 8,
   "outputs": [
    {
     "name": "stdout",
     "output_type": "stream",
     "text": [
      "0 1\n",
      "0 2\n",
      "0 3\n",
      "1 2\n",
      "1 3\n",
      "2 3\n"
     ]
    }
   ],
   "source": [
    "for ticker_voices1, i in zip(ticker_voices, range(tickers_num)):\n",
    "    for ticker_voices2, j in zip(ticker_voices, range(tickers_num)):\n",
    "        if i < j:\n",
    "            if ticker_voices1.intersection(ticker_voices2) is not None:\n",
    "                print(i, j)"
   ],
   "metadata": {
    "collapsed": false,
    "pycharm": {
     "name": "#%%\n"
    }
   }
  },
  {
   "cell_type": "code",
   "execution_count": 9,
   "outputs": [
    {
     "data": {
      "text/plain": "['Раскрывальщик',\n 'stanislava',\n 'Вася Баффет',\n '✔  ⓈⒺⓇⒼⒾⓄ:Ⓩ',\n 'Latyshev Eduard',\n 'Сергей Пирогов',\n 'Nordstream',\n 'Карим Тактуров',\n 'Тимофей Мартынов',\n 'Созерцатель',\n 'Ремора',\n 'Дмитрий Первый',\n 'Абросимов Павел',\n 'Alexey Rondine',\n 'Дмитрий Шабалов']"
     },
     "execution_count": 9,
     "metadata": {},
     "output_type": "execute_result"
    }
   ],
   "source": [
    "a, b = 0, 1\n",
    "\n",
    "list(ticker_voices[a].intersection(ticker_voices[b]))"
   ],
   "metadata": {
    "collapsed": false,
    "pycharm": {
     "name": "#%%\n"
    }
   }
  },
  {
   "cell_type": "code",
   "execution_count": 10,
   "outputs": [
    {
     "data": {
      "text/plain": "['Тимофей Мартынов', 'Карим Тактуров']"
     },
     "execution_count": 10,
     "metadata": {},
     "output_type": "execute_result"
    }
   ],
   "source": [
    "list(ticker_voices[0].intersection(ticker_voices[1], ticker_voices[2], ticker_voices[3]))"
   ],
   "metadata": {
    "collapsed": false,
    "pycharm": {
     "name": "#%%\n"
    }
   }
  },
  {
   "cell_type": "code",
   "execution_count": 11,
   "outputs": [],
   "source": [
    "all_voices = ticker_voices[0].union(\n",
    "    ticker_voices[1],\n",
    "    ticker_voices[2],\n",
    "    ticker_voices[3]\n",
    ")\n",
    "\n",
    "all_voices = sorted(list(all_voices))"
   ],
   "metadata": {
    "collapsed": false,
    "pycharm": {
     "name": "#%%\n"
    }
   }
  },
  {
   "cell_type": "code",
   "execution_count": 12,
   "outputs": [
    {
     "data": {
      "text/plain": "['(Конрад Карлович )',\n '111',\n '1SV',\n 'A.Demin',\n 'ALEXXX444',\n 'Alex666',\n 'Alexey Rondine',\n 'Alexprofi',\n 'Amigos',\n 'Andrei Kefi',\n 'Andrey Da',\n 'AndreyСт',\n 'Anna Belaya',\n 'Ant On',\n 'AntiTrader',\n 'Anton Palyhc',\n 'Anton Yu',\n 'Archy3000',\n 'AstralObject',\n 'Auximen',\n 'Bablos',\n 'Bay',\n 'Belarus',\n 'BeyG',\n 'Big Ben',\n 'BigTrader',\n 'Brent Goldman',\n 'Chef',\n 'Conquistador',\n 'Diamond',\n 'Dimkins',\n 'Dmitriklim',\n 'Dobryak',\n 'Elmarit',\n 'Erenbur',\n 'Evgeny Kornev',\n 'Finam',\n 'Finmentor',\n 'Finrange',\n 'Floyd',\n 'Gorik',\n 'Heinrich Baur',\n 'Investovization',\n 'Iosif Pipkin',\n 'Jonhmut',\n 'Kir',\n 'Kopa Del Toro',\n 'KrumBumBes',\n 'Kurono',\n 'Lanalex',\n 'Latyshev Eduard',\n 'Lenina Street Bets',\n 'Lidte',\n 'Market Power',\n 'Max',\n 'Maxkurs',\n 'Mozg',\n 'Napco',\n 'Niccolo',\n 'Nordstream',\n 'Northern Trader',\n 'PAPA SI PEREVOPLASHENNIY',\n 'PROFITOleg',\n 'Palmer_smartlabru',\n 'Paulmarko',\n 'Petrov',\n 'Qwert Asdfg',\n 'R B',\n 'Raduga8',\n 'Razb0rka',\n 'SSSt',\n 'Sergei',\n 'Sergey Z',\n 'Sianuk',\n 'Siphon&Beard moex garbage fund',\n 'Smart Investors',\n 'Square',\n 'Starl',\n 'TAUREN',\n 'TRAKTOR',\n 'Taganrog',\n 'Territory of Trading',\n 'TheLapsh',\n 'Unsaid_and_dirty',\n 'UshiSlona',\n 'Utkonos',\n 'Va Chen',\n 'Va1tra',\n 'ValeraShelomov',\n 'Voroshilov095',\n 'Wassiy',\n 'XXX★',\n 'Zdrav',\n 'Zdravim',\n '[email\\xa0protected]',\n 'atlantfan',\n 'baobab',\n 'broker25',\n 'bufu',\n 'conveyer',\n 'dimkaone1',\n 'drbv',\n 'drumer',\n 'ezomm',\n 'greedy_gnom',\n 'investorRF52',\n 'khornickjaadle',\n 'mar',\n 'master1',\n 'neu',\n 'nsk54',\n 'ocean drive',\n 'plazma37',\n 'semen popovich',\n 'stanislava',\n 'swapps',\n 'tsa',\n 'vadim80',\n 'vodorosl',\n 'znak',\n 'zx xc',\n 'Абросимов Павел',\n 'Ал',\n 'Александр Власов',\n 'Александр Иванов',\n 'Александр Осипов',\n 'Александр Сережкин',\n 'Алексей',\n 'Алексей Бицев',\n 'Алексей Бор',\n 'Алексей Мамаев',\n 'Али Картоев',\n 'Амиран',\n 'Анатолий Полубояринов',\n 'Андрей FTM',\n 'Андрей Башкатов',\n 'Андрей Остин',\n 'Андрей С',\n 'Андрей Сергеевич',\n 'Антон К',\n 'Антон Михеев',\n 'Антон Ромашов Aromath',\n 'Антон Харламов',\n 'Артур Зарипов',\n 'Артём',\n 'БИРЖЕВОЙ МАКЛЕР',\n 'Бриньёл',\n 'Вадим Назаренко',\n 'Вася Астанков',\n 'Вася Баффет',\n 'Виктор Вебер',\n 'Виктор Петров',\n 'Вклад в Будущее',\n 'Владимир Иванов',\n 'Владимир Литвинов',\n 'Владимир Погорелов',\n 'Владислав Кофанов',\n 'Воронов Дмитрий',\n 'Все Верно',\n 'Газпромбанк Инвестиции',\n 'Гоша Фомич',\n 'Денис Волков',\n 'Дмитрий',\n 'Дмитрий Абраменко',\n 'Дмитрий Аз',\n 'Дмитрий Иванов',\n 'Дмитрий Лактионов',\n 'Дмитрий М',\n 'Дмитрий Первый',\n 'Дмитрий Соколов',\n 'Дмитрий Шабалов',\n 'Дурдин Артем',\n 'Дюша Метелкин',\n 'Евгений',\n 'Евгений Галеев',\n 'Евгений Милушков',\n 'Жека Аксельрод',\n 'Задвигая ИнвесТелегу',\n 'Иван Николаевич',\n 'Иванов М.',\n 'Игорь Родичев',\n 'Игорь Терещенков',\n 'ИгорьMSK',\n 'Илья',\n 'Йолли Пукинен',\n 'Карим Тактуров',\n 'Коварный Лис',\n 'Козлов Юрий',\n 'Коммерсантъ',\n 'Коммунизму быть!',\n 'Константин',\n 'Константин Двинский',\n 'Константин Дубровин',\n 'Константин Коблов',\n 'Краснов',\n 'Ленивый инвестор',\n 'Макс Бодров',\n 'Максим',\n 'Максим Александрович',\n 'Максим Власов',\n 'Максим Лебедев',\n 'Марэк',\n 'Метод №5',\n 'Мираж',\n 'Михаил',\n 'Михалыч',\n 'Мои Инвестиции',\n 'Народное золото',\n 'Национальное Достояние',\n 'Никитос',\n 'Николай Иванов',\n 'Николай Панасенко',\n 'Олег Дубинский',\n 'Павел',\n 'Павел Хадалов',\n 'Патриот, но не идиот',\n 'Петров',\n 'ПлощадьДНР',\n 'Пользователь Googl',\n 'Путешественник',\n 'Расим Касимов',\n 'Раскрывальщик',\n 'Редактор Боб',\n 'Ремора',\n 'Роман',\n 'Роман Бабанин',\n 'Роман Жмак',\n 'Роман Лисин,(Советский Союз)',\n 'Роман Ранний',\n 'РоманП.',\n 'С.В.',\n 'СВ',\n 'СЛАВА \"Газпрому\"',\n 'Семен Семеныч',\n 'Сергей',\n 'Сергей Аноним',\n 'Сергей Белый / Инвестор',\n 'Сергей Пирогов',\n 'Созерцатель',\n 'Солид Брокер',\n 'Станислав Швецов',\n 'Степан Грозный',\n 'Тазик Огурцов',\n 'Тимофей Мартынов',\n 'Тимур',\n 'Тинькофф Инвестиции',\n 'Трейдун',\n 'Цаплин Сергей',\n 'Чингачгук (Великий Змей)',\n 'Эдуард Лоскутов',\n 'Юрий',\n 'Юрий Близорукий',\n 'Яндекс',\n 'дмитрий маликов',\n 'иванов',\n 'игорь баженов',\n 'не бык',\n 'ольга ан',\n 'сем',\n 'юрий',\n '✔  ⓈⒺⓇⒼⒾⓄ:Ⓩ']"
     },
     "execution_count": 12,
     "metadata": {},
     "output_type": "execute_result"
    }
   ],
   "source": [
    "all_voices"
   ],
   "metadata": {
    "collapsed": false,
    "pycharm": {
     "name": "#%%\n"
    }
   }
  },
  {
   "cell_type": "code",
   "execution_count": 13,
   "outputs": [
    {
     "data": {
      "text/plain": "[[], [], [], []]"
     },
     "execution_count": 13,
     "metadata": {},
     "output_type": "execute_result"
    }
   ],
   "source": [
    "dummies_is_talking = [ [] for i in range(tickers_num) ]\n",
    "dummies_is_talking"
   ],
   "metadata": {
    "collapsed": false,
    "pycharm": {
     "name": "#%%\n"
    }
   }
  },
  {
   "cell_type": "code",
   "execution_count": 14,
   "outputs": [],
   "source": [
    "for voice in all_voices:\n",
    "    for i in range(len(ticker_voices)):\n",
    "        if voice in list(ticker_voices[i]):\n",
    "            dummies_is_talking[i].append(1)\n",
    "        else:\n",
    "            dummies_is_talking[i].append(0)\n"
   ],
   "metadata": {
    "collapsed": false,
    "pycharm": {
     "name": "#%%\n"
    }
   }
  },
  {
   "cell_type": "code",
   "execution_count": 14,
   "outputs": [],
   "source": [],
   "metadata": {
    "collapsed": false,
    "pycharm": {
     "name": "#%%\n"
    }
   }
  },
  {
   "cell_type": "code",
   "execution_count": 15,
   "outputs": [],
   "source": [
    "d = {'username': all_voices,\n",
    "     'isGazp': dummies_is_talking[0],\n",
    "     'isMgnt': dummies_is_talking[1],\n",
    "     'isSber': dummies_is_talking[2],\n",
    "     'isYndx': dummies_is_talking[3],\n",
    "     }\n"
   ],
   "metadata": {
    "collapsed": false,
    "pycharm": {
     "name": "#%%\n"
    }
   }
  },
  {
   "cell_type": "code",
   "execution_count": 16,
   "outputs": [
    {
     "data": {
      "text/plain": "261"
     },
     "execution_count": 16,
     "metadata": {},
     "output_type": "execute_result"
    }
   ],
   "source": [
    "len(d['isGazp'])"
   ],
   "metadata": {
    "collapsed": false,
    "pycharm": {
     "name": "#%%\n"
    }
   }
  },
  {
   "cell_type": "code",
   "execution_count": 17,
   "outputs": [
    {
     "data": {
      "text/plain": "261"
     },
     "execution_count": 17,
     "metadata": {},
     "output_type": "execute_result"
    }
   ],
   "source": [
    "len(d['isMgnt'])"
   ],
   "metadata": {
    "collapsed": false,
    "pycharm": {
     "name": "#%%\n"
    }
   }
  },
  {
   "cell_type": "code",
   "execution_count": 18,
   "outputs": [
    {
     "data": {
      "text/plain": "261"
     },
     "execution_count": 18,
     "metadata": {},
     "output_type": "execute_result"
    }
   ],
   "source": [
    "len(d['isSber'])"
   ],
   "metadata": {
    "collapsed": false,
    "pycharm": {
     "name": "#%%\n"
    }
   }
  },
  {
   "cell_type": "code",
   "execution_count": 19,
   "outputs": [
    {
     "data": {
      "text/plain": "261"
     },
     "execution_count": 19,
     "metadata": {},
     "output_type": "execute_result"
    }
   ],
   "source": [
    "len(d['isYndx'])"
   ],
   "metadata": {
    "collapsed": false,
    "pycharm": {
     "name": "#%%\n"
    }
   }
  },
  {
   "cell_type": "code",
   "execution_count": 20,
   "outputs": [
    {
     "data": {
      "text/plain": "261"
     },
     "execution_count": 20,
     "metadata": {},
     "output_type": "execute_result"
    }
   ],
   "source": [
    "len(all_voices)"
   ],
   "metadata": {
    "collapsed": false,
    "pycharm": {
     "name": "#%%\n"
    }
   }
  },
  {
   "cell_type": "code",
   "execution_count": 21,
   "outputs": [],
   "source": [
    "df = pd.DataFrame(data=d)"
   ],
   "metadata": {
    "collapsed": false,
    "pycharm": {
     "name": "#%%\n"
    }
   }
  },
  {
   "cell_type": "code",
   "execution_count": 22,
   "outputs": [
    {
     "data": {
      "text/plain": "               username  isGazp  isMgnt  isSber  isYndx\n0    (Конрад Карлович )       1       0       0       0\n1                   111       1       0       0       0\n2                   1SV       0       0       1       0\n3               A.Demin       0       1       0       0\n4             ALEXXX444       0       1       0       0\n..                  ...     ...     ...     ...     ...\n256              не бык       0       0       1       0\n257            ольга ан       0       1       0       0\n258                 сем       1       0       0       0\n259                юрий       0       0       0       1\n260         ✔  ⓈⒺⓇⒼⒾⓄ:Ⓩ       1       1       0       1\n\n[261 rows x 5 columns]",
      "text/html": "<div>\n<style scoped>\n    .dataframe tbody tr th:only-of-type {\n        vertical-align: middle;\n    }\n\n    .dataframe tbody tr th {\n        vertical-align: top;\n    }\n\n    .dataframe thead th {\n        text-align: right;\n    }\n</style>\n<table border=\"1\" class=\"dataframe\">\n  <thead>\n    <tr style=\"text-align: right;\">\n      <th></th>\n      <th>username</th>\n      <th>isGazp</th>\n      <th>isMgnt</th>\n      <th>isSber</th>\n      <th>isYndx</th>\n    </tr>\n  </thead>\n  <tbody>\n    <tr>\n      <th>0</th>\n      <td>(Конрад Карлович )</td>\n      <td>1</td>\n      <td>0</td>\n      <td>0</td>\n      <td>0</td>\n    </tr>\n    <tr>\n      <th>1</th>\n      <td>111</td>\n      <td>1</td>\n      <td>0</td>\n      <td>0</td>\n      <td>0</td>\n    </tr>\n    <tr>\n      <th>2</th>\n      <td>1SV</td>\n      <td>0</td>\n      <td>0</td>\n      <td>1</td>\n      <td>0</td>\n    </tr>\n    <tr>\n      <th>3</th>\n      <td>A.Demin</td>\n      <td>0</td>\n      <td>1</td>\n      <td>0</td>\n      <td>0</td>\n    </tr>\n    <tr>\n      <th>4</th>\n      <td>ALEXXX444</td>\n      <td>0</td>\n      <td>1</td>\n      <td>0</td>\n      <td>0</td>\n    </tr>\n    <tr>\n      <th>...</th>\n      <td>...</td>\n      <td>...</td>\n      <td>...</td>\n      <td>...</td>\n      <td>...</td>\n    </tr>\n    <tr>\n      <th>256</th>\n      <td>не бык</td>\n      <td>0</td>\n      <td>0</td>\n      <td>1</td>\n      <td>0</td>\n    </tr>\n    <tr>\n      <th>257</th>\n      <td>ольга ан</td>\n      <td>0</td>\n      <td>1</td>\n      <td>0</td>\n      <td>0</td>\n    </tr>\n    <tr>\n      <th>258</th>\n      <td>сем</td>\n      <td>1</td>\n      <td>0</td>\n      <td>0</td>\n      <td>0</td>\n    </tr>\n    <tr>\n      <th>259</th>\n      <td>юрий</td>\n      <td>0</td>\n      <td>0</td>\n      <td>0</td>\n      <td>1</td>\n    </tr>\n    <tr>\n      <th>260</th>\n      <td>✔  ⓈⒺⓇⒼⒾⓄ:Ⓩ</td>\n      <td>1</td>\n      <td>1</td>\n      <td>0</td>\n      <td>1</td>\n    </tr>\n  </tbody>\n</table>\n<p>261 rows × 5 columns</p>\n</div>"
     },
     "execution_count": 22,
     "metadata": {},
     "output_type": "execute_result"
    }
   ],
   "source": [
    "df"
   ],
   "metadata": {
    "collapsed": false,
    "pycharm": {
     "name": "#%%\n"
    }
   }
  },
  {
   "cell_type": "code",
   "execution_count": 23,
   "outputs": [
    {
     "name": "stderr",
     "output_type": "stream",
     "text": [
      "/var/folders/xd/xm863f553v750zss70sl77sc0000gn/T/ipykernel_7188/1987712914.py:1: FutureWarning: Dropping of nuisance columns in DataFrame reductions (with 'numeric_only=None') is deprecated; in a future version this will raise TypeError.  Select only valid columns before calling the reduction.\n",
      "  df['threadNum'] = df.sum(axis=1)\n"
     ]
    }
   ],
   "source": [
    "df['threadNum'] = df.sum(axis=1)"
   ],
   "metadata": {
    "collapsed": false,
    "pycharm": {
     "name": "#%%\n"
    }
   }
  },
  {
   "cell_type": "code",
   "execution_count": 24,
   "outputs": [
    {
     "data": {
      "text/plain": "               username  isGazp  isMgnt  isSber  isYndx  threadNum\n0    (Конрад Карлович )       1       0       0       0          1\n1                   111       1       0       0       0          1\n2                   1SV       0       0       1       0          1\n3               A.Demin       0       1       0       0          1\n4             ALEXXX444       0       1       0       0          1\n..                  ...     ...     ...     ...     ...        ...\n256              не бык       0       0       1       0          1\n257            ольга ан       0       1       0       0          1\n258                 сем       1       0       0       0          1\n259                юрий       0       0       0       1          1\n260         ✔  ⓈⒺⓇⒼⒾⓄ:Ⓩ       1       1       0       1          3\n\n[261 rows x 6 columns]",
      "text/html": "<div>\n<style scoped>\n    .dataframe tbody tr th:only-of-type {\n        vertical-align: middle;\n    }\n\n    .dataframe tbody tr th {\n        vertical-align: top;\n    }\n\n    .dataframe thead th {\n        text-align: right;\n    }\n</style>\n<table border=\"1\" class=\"dataframe\">\n  <thead>\n    <tr style=\"text-align: right;\">\n      <th></th>\n      <th>username</th>\n      <th>isGazp</th>\n      <th>isMgnt</th>\n      <th>isSber</th>\n      <th>isYndx</th>\n      <th>threadNum</th>\n    </tr>\n  </thead>\n  <tbody>\n    <tr>\n      <th>0</th>\n      <td>(Конрад Карлович )</td>\n      <td>1</td>\n      <td>0</td>\n      <td>0</td>\n      <td>0</td>\n      <td>1</td>\n    </tr>\n    <tr>\n      <th>1</th>\n      <td>111</td>\n      <td>1</td>\n      <td>0</td>\n      <td>0</td>\n      <td>0</td>\n      <td>1</td>\n    </tr>\n    <tr>\n      <th>2</th>\n      <td>1SV</td>\n      <td>0</td>\n      <td>0</td>\n      <td>1</td>\n      <td>0</td>\n      <td>1</td>\n    </tr>\n    <tr>\n      <th>3</th>\n      <td>A.Demin</td>\n      <td>0</td>\n      <td>1</td>\n      <td>0</td>\n      <td>0</td>\n      <td>1</td>\n    </tr>\n    <tr>\n      <th>4</th>\n      <td>ALEXXX444</td>\n      <td>0</td>\n      <td>1</td>\n      <td>0</td>\n      <td>0</td>\n      <td>1</td>\n    </tr>\n    <tr>\n      <th>...</th>\n      <td>...</td>\n      <td>...</td>\n      <td>...</td>\n      <td>...</td>\n      <td>...</td>\n      <td>...</td>\n    </tr>\n    <tr>\n      <th>256</th>\n      <td>не бык</td>\n      <td>0</td>\n      <td>0</td>\n      <td>1</td>\n      <td>0</td>\n      <td>1</td>\n    </tr>\n    <tr>\n      <th>257</th>\n      <td>ольга ан</td>\n      <td>0</td>\n      <td>1</td>\n      <td>0</td>\n      <td>0</td>\n      <td>1</td>\n    </tr>\n    <tr>\n      <th>258</th>\n      <td>сем</td>\n      <td>1</td>\n      <td>0</td>\n      <td>0</td>\n      <td>0</td>\n      <td>1</td>\n    </tr>\n    <tr>\n      <th>259</th>\n      <td>юрий</td>\n      <td>0</td>\n      <td>0</td>\n      <td>0</td>\n      <td>1</td>\n      <td>1</td>\n    </tr>\n    <tr>\n      <th>260</th>\n      <td>✔  ⓈⒺⓇⒼⒾⓄ:Ⓩ</td>\n      <td>1</td>\n      <td>1</td>\n      <td>0</td>\n      <td>1</td>\n      <td>3</td>\n    </tr>\n  </tbody>\n</table>\n<p>261 rows × 6 columns</p>\n</div>"
     },
     "execution_count": 24,
     "metadata": {},
     "output_type": "execute_result"
    }
   ],
   "source": [
    "df"
   ],
   "metadata": {
    "collapsed": false,
    "pycharm": {
     "name": "#%%\n"
    }
   }
  },
  {
   "cell_type": "code",
   "execution_count": 25,
   "outputs": [],
   "source": [
    "df2 = df[df['threadNum'] >= 2]"
   ],
   "metadata": {
    "collapsed": false,
    "pycharm": {
     "name": "#%%\n"
    }
   }
  },
  {
   "cell_type": "code",
   "execution_count": 26,
   "outputs": [
    {
     "data": {
      "text/plain": "                     username  isGazp  isMgnt  isSber  isYndx  threadNum\n6              Alexey Rondine       1       1       0       0          2\n15               Anton Palyhc       0       0       1       1          2\n19                    Auximen       1       0       0       1          2\n28               Conquistador       0       1       0       1          2\n36                      Finam       0       1       0       1          2\n37                  Finmentor       0       1       0       1          2\n46              Kopa Del Toro       0       1       1       0          2\n47                 KrumBumBes       0       1       0       1          2\n50            Latyshev Eduard       1       1       0       0          2\n53               Market Power       0       1       0       1          2\n59                 Nordstream       1       1       0       1          3\n62                 PROFITOleg       0       1       0       1          2\n69                   Razb0rka       0       1       0       1          2\n75            Smart Investors       1       0       0       1          2\n81       Territory of Trading       0       1       0       1          2\n86                    Va Chen       0       1       0       1          2\n88             ValeraShelomov       0       1       0       1          2\n101                      drbv       1       0       0       1          2\n104               greedy_gnom       1       0       0       1          2\n106            khornickjaadle       1       0       1       1          3\n108                   master1       0       1       0       1          2\n110                     nsk54       0       1       1       0          2\n114                stanislava       1       1       0       1          3\n121           Абросимов Павел       1       1       0       1          3\n133     Анатолий Полубояринов       0       1       1       0          2\n144                     Артём       0       1       0       1          2\n149               Вася Баффет       1       1       0       1          3\n150              Виктор Вебер       0       0       1       1          2\n154         Владимир Литвинов       0       1       0       1          2\n158                 Все Верно       1       0       0       1          2\n160                Гоша Фомич       0       1       0       1          2\n162                   Дмитрий       0       1       0       1          2\n163         Дмитрий Абраменко       0       1       0       1          2\n168            Дмитрий Первый       1       1       1       0          3\n170           Дмитрий Шабалов       1       1       1       0          3\n172             Дюша Метелкин       1       0       1       0          2\n185            Карим Тактуров       1       1       1       1          4\n190                Константин       1       0       1       0          2\n197                    Максим       0       1       0       1          2\n201                     Марэк       0       1       0       1          2\n203                     Мираж       0       1       0       1          2\n204                    Михаил       0       1       0       1          2\n205                   Михалыч       1       0       0       1          2\n208    Национальное Достояние       1       0       0       1          2\n210            Николай Иванов       0       1       0       1          2\n212            Олег Дубинский       0       1       0       1          2\n216                    Петров       1       0       1       0          2\n221             Раскрывальщик       1       1       0       0          2\n223                    Ремора       1       1       0       0          2\n226                Роман Жмак       1       0       0       1          2\n230                      С.В.       0       1       1       0          2\n234                    Сергей       0       0       1       1          2\n237            Сергей Пирогов       1       1       0       1          3\n238               Созерцатель       1       1       1       0          3\n243          Тимофей Мартынов       1       1       1       1          4\n247             Цаплин Сергей       0       1       0       1          2\n248  Чингачгук (Великий Змей)       1       0       1       0          2\n260               ✔  ⓈⒺⓇⒼⒾⓄ:Ⓩ       1       1       0       1          3",
      "text/html": "<div>\n<style scoped>\n    .dataframe tbody tr th:only-of-type {\n        vertical-align: middle;\n    }\n\n    .dataframe tbody tr th {\n        vertical-align: top;\n    }\n\n    .dataframe thead th {\n        text-align: right;\n    }\n</style>\n<table border=\"1\" class=\"dataframe\">\n  <thead>\n    <tr style=\"text-align: right;\">\n      <th></th>\n      <th>username</th>\n      <th>isGazp</th>\n      <th>isMgnt</th>\n      <th>isSber</th>\n      <th>isYndx</th>\n      <th>threadNum</th>\n    </tr>\n  </thead>\n  <tbody>\n    <tr>\n      <th>6</th>\n      <td>Alexey Rondine</td>\n      <td>1</td>\n      <td>1</td>\n      <td>0</td>\n      <td>0</td>\n      <td>2</td>\n    </tr>\n    <tr>\n      <th>15</th>\n      <td>Anton Palyhc</td>\n      <td>0</td>\n      <td>0</td>\n      <td>1</td>\n      <td>1</td>\n      <td>2</td>\n    </tr>\n    <tr>\n      <th>19</th>\n      <td>Auximen</td>\n      <td>1</td>\n      <td>0</td>\n      <td>0</td>\n      <td>1</td>\n      <td>2</td>\n    </tr>\n    <tr>\n      <th>28</th>\n      <td>Conquistador</td>\n      <td>0</td>\n      <td>1</td>\n      <td>0</td>\n      <td>1</td>\n      <td>2</td>\n    </tr>\n    <tr>\n      <th>36</th>\n      <td>Finam</td>\n      <td>0</td>\n      <td>1</td>\n      <td>0</td>\n      <td>1</td>\n      <td>2</td>\n    </tr>\n    <tr>\n      <th>37</th>\n      <td>Finmentor</td>\n      <td>0</td>\n      <td>1</td>\n      <td>0</td>\n      <td>1</td>\n      <td>2</td>\n    </tr>\n    <tr>\n      <th>46</th>\n      <td>Kopa Del Toro</td>\n      <td>0</td>\n      <td>1</td>\n      <td>1</td>\n      <td>0</td>\n      <td>2</td>\n    </tr>\n    <tr>\n      <th>47</th>\n      <td>KrumBumBes</td>\n      <td>0</td>\n      <td>1</td>\n      <td>0</td>\n      <td>1</td>\n      <td>2</td>\n    </tr>\n    <tr>\n      <th>50</th>\n      <td>Latyshev Eduard</td>\n      <td>1</td>\n      <td>1</td>\n      <td>0</td>\n      <td>0</td>\n      <td>2</td>\n    </tr>\n    <tr>\n      <th>53</th>\n      <td>Market Power</td>\n      <td>0</td>\n      <td>1</td>\n      <td>0</td>\n      <td>1</td>\n      <td>2</td>\n    </tr>\n    <tr>\n      <th>59</th>\n      <td>Nordstream</td>\n      <td>1</td>\n      <td>1</td>\n      <td>0</td>\n      <td>1</td>\n      <td>3</td>\n    </tr>\n    <tr>\n      <th>62</th>\n      <td>PROFITOleg</td>\n      <td>0</td>\n      <td>1</td>\n      <td>0</td>\n      <td>1</td>\n      <td>2</td>\n    </tr>\n    <tr>\n      <th>69</th>\n      <td>Razb0rka</td>\n      <td>0</td>\n      <td>1</td>\n      <td>0</td>\n      <td>1</td>\n      <td>2</td>\n    </tr>\n    <tr>\n      <th>75</th>\n      <td>Smart Investors</td>\n      <td>1</td>\n      <td>0</td>\n      <td>0</td>\n      <td>1</td>\n      <td>2</td>\n    </tr>\n    <tr>\n      <th>81</th>\n      <td>Territory of Trading</td>\n      <td>0</td>\n      <td>1</td>\n      <td>0</td>\n      <td>1</td>\n      <td>2</td>\n    </tr>\n    <tr>\n      <th>86</th>\n      <td>Va Chen</td>\n      <td>0</td>\n      <td>1</td>\n      <td>0</td>\n      <td>1</td>\n      <td>2</td>\n    </tr>\n    <tr>\n      <th>88</th>\n      <td>ValeraShelomov</td>\n      <td>0</td>\n      <td>1</td>\n      <td>0</td>\n      <td>1</td>\n      <td>2</td>\n    </tr>\n    <tr>\n      <th>101</th>\n      <td>drbv</td>\n      <td>1</td>\n      <td>0</td>\n      <td>0</td>\n      <td>1</td>\n      <td>2</td>\n    </tr>\n    <tr>\n      <th>104</th>\n      <td>greedy_gnom</td>\n      <td>1</td>\n      <td>0</td>\n      <td>0</td>\n      <td>1</td>\n      <td>2</td>\n    </tr>\n    <tr>\n      <th>106</th>\n      <td>khornickjaadle</td>\n      <td>1</td>\n      <td>0</td>\n      <td>1</td>\n      <td>1</td>\n      <td>3</td>\n    </tr>\n    <tr>\n      <th>108</th>\n      <td>master1</td>\n      <td>0</td>\n      <td>1</td>\n      <td>0</td>\n      <td>1</td>\n      <td>2</td>\n    </tr>\n    <tr>\n      <th>110</th>\n      <td>nsk54</td>\n      <td>0</td>\n      <td>1</td>\n      <td>1</td>\n      <td>0</td>\n      <td>2</td>\n    </tr>\n    <tr>\n      <th>114</th>\n      <td>stanislava</td>\n      <td>1</td>\n      <td>1</td>\n      <td>0</td>\n      <td>1</td>\n      <td>3</td>\n    </tr>\n    <tr>\n      <th>121</th>\n      <td>Абросимов Павел</td>\n      <td>1</td>\n      <td>1</td>\n      <td>0</td>\n      <td>1</td>\n      <td>3</td>\n    </tr>\n    <tr>\n      <th>133</th>\n      <td>Анатолий Полубояринов</td>\n      <td>0</td>\n      <td>1</td>\n      <td>1</td>\n      <td>0</td>\n      <td>2</td>\n    </tr>\n    <tr>\n      <th>144</th>\n      <td>Артём</td>\n      <td>0</td>\n      <td>1</td>\n      <td>0</td>\n      <td>1</td>\n      <td>2</td>\n    </tr>\n    <tr>\n      <th>149</th>\n      <td>Вася Баффет</td>\n      <td>1</td>\n      <td>1</td>\n      <td>0</td>\n      <td>1</td>\n      <td>3</td>\n    </tr>\n    <tr>\n      <th>150</th>\n      <td>Виктор Вебер</td>\n      <td>0</td>\n      <td>0</td>\n      <td>1</td>\n      <td>1</td>\n      <td>2</td>\n    </tr>\n    <tr>\n      <th>154</th>\n      <td>Владимир Литвинов</td>\n      <td>0</td>\n      <td>1</td>\n      <td>0</td>\n      <td>1</td>\n      <td>2</td>\n    </tr>\n    <tr>\n      <th>158</th>\n      <td>Все Верно</td>\n      <td>1</td>\n      <td>0</td>\n      <td>0</td>\n      <td>1</td>\n      <td>2</td>\n    </tr>\n    <tr>\n      <th>160</th>\n      <td>Гоша Фомич</td>\n      <td>0</td>\n      <td>1</td>\n      <td>0</td>\n      <td>1</td>\n      <td>2</td>\n    </tr>\n    <tr>\n      <th>162</th>\n      <td>Дмитрий</td>\n      <td>0</td>\n      <td>1</td>\n      <td>0</td>\n      <td>1</td>\n      <td>2</td>\n    </tr>\n    <tr>\n      <th>163</th>\n      <td>Дмитрий Абраменко</td>\n      <td>0</td>\n      <td>1</td>\n      <td>0</td>\n      <td>1</td>\n      <td>2</td>\n    </tr>\n    <tr>\n      <th>168</th>\n      <td>Дмитрий Первый</td>\n      <td>1</td>\n      <td>1</td>\n      <td>1</td>\n      <td>0</td>\n      <td>3</td>\n    </tr>\n    <tr>\n      <th>170</th>\n      <td>Дмитрий Шабалов</td>\n      <td>1</td>\n      <td>1</td>\n      <td>1</td>\n      <td>0</td>\n      <td>3</td>\n    </tr>\n    <tr>\n      <th>172</th>\n      <td>Дюша Метелкин</td>\n      <td>1</td>\n      <td>0</td>\n      <td>1</td>\n      <td>0</td>\n      <td>2</td>\n    </tr>\n    <tr>\n      <th>185</th>\n      <td>Карим Тактуров</td>\n      <td>1</td>\n      <td>1</td>\n      <td>1</td>\n      <td>1</td>\n      <td>4</td>\n    </tr>\n    <tr>\n      <th>190</th>\n      <td>Константин</td>\n      <td>1</td>\n      <td>0</td>\n      <td>1</td>\n      <td>0</td>\n      <td>2</td>\n    </tr>\n    <tr>\n      <th>197</th>\n      <td>Максим</td>\n      <td>0</td>\n      <td>1</td>\n      <td>0</td>\n      <td>1</td>\n      <td>2</td>\n    </tr>\n    <tr>\n      <th>201</th>\n      <td>Марэк</td>\n      <td>0</td>\n      <td>1</td>\n      <td>0</td>\n      <td>1</td>\n      <td>2</td>\n    </tr>\n    <tr>\n      <th>203</th>\n      <td>Мираж</td>\n      <td>0</td>\n      <td>1</td>\n      <td>0</td>\n      <td>1</td>\n      <td>2</td>\n    </tr>\n    <tr>\n      <th>204</th>\n      <td>Михаил</td>\n      <td>0</td>\n      <td>1</td>\n      <td>0</td>\n      <td>1</td>\n      <td>2</td>\n    </tr>\n    <tr>\n      <th>205</th>\n      <td>Михалыч</td>\n      <td>1</td>\n      <td>0</td>\n      <td>0</td>\n      <td>1</td>\n      <td>2</td>\n    </tr>\n    <tr>\n      <th>208</th>\n      <td>Национальное Достояние</td>\n      <td>1</td>\n      <td>0</td>\n      <td>0</td>\n      <td>1</td>\n      <td>2</td>\n    </tr>\n    <tr>\n      <th>210</th>\n      <td>Николай Иванов</td>\n      <td>0</td>\n      <td>1</td>\n      <td>0</td>\n      <td>1</td>\n      <td>2</td>\n    </tr>\n    <tr>\n      <th>212</th>\n      <td>Олег Дубинский</td>\n      <td>0</td>\n      <td>1</td>\n      <td>0</td>\n      <td>1</td>\n      <td>2</td>\n    </tr>\n    <tr>\n      <th>216</th>\n      <td>Петров</td>\n      <td>1</td>\n      <td>0</td>\n      <td>1</td>\n      <td>0</td>\n      <td>2</td>\n    </tr>\n    <tr>\n      <th>221</th>\n      <td>Раскрывальщик</td>\n      <td>1</td>\n      <td>1</td>\n      <td>0</td>\n      <td>0</td>\n      <td>2</td>\n    </tr>\n    <tr>\n      <th>223</th>\n      <td>Ремора</td>\n      <td>1</td>\n      <td>1</td>\n      <td>0</td>\n      <td>0</td>\n      <td>2</td>\n    </tr>\n    <tr>\n      <th>226</th>\n      <td>Роман Жмак</td>\n      <td>1</td>\n      <td>0</td>\n      <td>0</td>\n      <td>1</td>\n      <td>2</td>\n    </tr>\n    <tr>\n      <th>230</th>\n      <td>С.В.</td>\n      <td>0</td>\n      <td>1</td>\n      <td>1</td>\n      <td>0</td>\n      <td>2</td>\n    </tr>\n    <tr>\n      <th>234</th>\n      <td>Сергей</td>\n      <td>0</td>\n      <td>0</td>\n      <td>1</td>\n      <td>1</td>\n      <td>2</td>\n    </tr>\n    <tr>\n      <th>237</th>\n      <td>Сергей Пирогов</td>\n      <td>1</td>\n      <td>1</td>\n      <td>0</td>\n      <td>1</td>\n      <td>3</td>\n    </tr>\n    <tr>\n      <th>238</th>\n      <td>Созерцатель</td>\n      <td>1</td>\n      <td>1</td>\n      <td>1</td>\n      <td>0</td>\n      <td>3</td>\n    </tr>\n    <tr>\n      <th>243</th>\n      <td>Тимофей Мартынов</td>\n      <td>1</td>\n      <td>1</td>\n      <td>1</td>\n      <td>1</td>\n      <td>4</td>\n    </tr>\n    <tr>\n      <th>247</th>\n      <td>Цаплин Сергей</td>\n      <td>0</td>\n      <td>1</td>\n      <td>0</td>\n      <td>1</td>\n      <td>2</td>\n    </tr>\n    <tr>\n      <th>248</th>\n      <td>Чингачгук (Великий Змей)</td>\n      <td>1</td>\n      <td>0</td>\n      <td>1</td>\n      <td>0</td>\n      <td>2</td>\n    </tr>\n    <tr>\n      <th>260</th>\n      <td>✔  ⓈⒺⓇⒼⒾⓄ:Ⓩ</td>\n      <td>1</td>\n      <td>1</td>\n      <td>0</td>\n      <td>1</td>\n      <td>3</td>\n    </tr>\n  </tbody>\n</table>\n</div>"
     },
     "execution_count": 26,
     "metadata": {},
     "output_type": "execute_result"
    }
   ],
   "source": [
    "df2"
   ],
   "metadata": {
    "collapsed": false,
    "pycharm": {
     "name": "#%%\n"
    }
   }
  },
  {
   "cell_type": "code",
   "execution_count": 27,
   "outputs": [],
   "source": [
    "df3 = df[df['threadNum'] >= 3]"
   ],
   "metadata": {
    "collapsed": false,
    "pycharm": {
     "name": "#%%\n"
    }
   }
  },
  {
   "cell_type": "code",
   "execution_count": 28,
   "outputs": [
    {
     "data": {
      "text/plain": "             username  isGazp  isMgnt  isSber  isYndx  threadNum\n59         Nordstream       1       1       0       1          3\n106    khornickjaadle       1       0       1       1          3\n114        stanislava       1       1       0       1          3\n121   Абросимов Павел       1       1       0       1          3\n149       Вася Баффет       1       1       0       1          3\n168    Дмитрий Первый       1       1       1       0          3\n170   Дмитрий Шабалов       1       1       1       0          3\n185    Карим Тактуров       1       1       1       1          4\n237    Сергей Пирогов       1       1       0       1          3\n238       Созерцатель       1       1       1       0          3\n243  Тимофей Мартынов       1       1       1       1          4\n260       ✔  ⓈⒺⓇⒼⒾⓄ:Ⓩ       1       1       0       1          3",
      "text/html": "<div>\n<style scoped>\n    .dataframe tbody tr th:only-of-type {\n        vertical-align: middle;\n    }\n\n    .dataframe tbody tr th {\n        vertical-align: top;\n    }\n\n    .dataframe thead th {\n        text-align: right;\n    }\n</style>\n<table border=\"1\" class=\"dataframe\">\n  <thead>\n    <tr style=\"text-align: right;\">\n      <th></th>\n      <th>username</th>\n      <th>isGazp</th>\n      <th>isMgnt</th>\n      <th>isSber</th>\n      <th>isYndx</th>\n      <th>threadNum</th>\n    </tr>\n  </thead>\n  <tbody>\n    <tr>\n      <th>59</th>\n      <td>Nordstream</td>\n      <td>1</td>\n      <td>1</td>\n      <td>0</td>\n      <td>1</td>\n      <td>3</td>\n    </tr>\n    <tr>\n      <th>106</th>\n      <td>khornickjaadle</td>\n      <td>1</td>\n      <td>0</td>\n      <td>1</td>\n      <td>1</td>\n      <td>3</td>\n    </tr>\n    <tr>\n      <th>114</th>\n      <td>stanislava</td>\n      <td>1</td>\n      <td>1</td>\n      <td>0</td>\n      <td>1</td>\n      <td>3</td>\n    </tr>\n    <tr>\n      <th>121</th>\n      <td>Абросимов Павел</td>\n      <td>1</td>\n      <td>1</td>\n      <td>0</td>\n      <td>1</td>\n      <td>3</td>\n    </tr>\n    <tr>\n      <th>149</th>\n      <td>Вася Баффет</td>\n      <td>1</td>\n      <td>1</td>\n      <td>0</td>\n      <td>1</td>\n      <td>3</td>\n    </tr>\n    <tr>\n      <th>168</th>\n      <td>Дмитрий Первый</td>\n      <td>1</td>\n      <td>1</td>\n      <td>1</td>\n      <td>0</td>\n      <td>3</td>\n    </tr>\n    <tr>\n      <th>170</th>\n      <td>Дмитрий Шабалов</td>\n      <td>1</td>\n      <td>1</td>\n      <td>1</td>\n      <td>0</td>\n      <td>3</td>\n    </tr>\n    <tr>\n      <th>185</th>\n      <td>Карим Тактуров</td>\n      <td>1</td>\n      <td>1</td>\n      <td>1</td>\n      <td>1</td>\n      <td>4</td>\n    </tr>\n    <tr>\n      <th>237</th>\n      <td>Сергей Пирогов</td>\n      <td>1</td>\n      <td>1</td>\n      <td>0</td>\n      <td>1</td>\n      <td>3</td>\n    </tr>\n    <tr>\n      <th>238</th>\n      <td>Созерцатель</td>\n      <td>1</td>\n      <td>1</td>\n      <td>1</td>\n      <td>0</td>\n      <td>3</td>\n    </tr>\n    <tr>\n      <th>243</th>\n      <td>Тимофей Мартынов</td>\n      <td>1</td>\n      <td>1</td>\n      <td>1</td>\n      <td>1</td>\n      <td>4</td>\n    </tr>\n    <tr>\n      <th>260</th>\n      <td>✔  ⓈⒺⓇⒼⒾⓄ:Ⓩ</td>\n      <td>1</td>\n      <td>1</td>\n      <td>0</td>\n      <td>1</td>\n      <td>3</td>\n    </tr>\n  </tbody>\n</table>\n</div>"
     },
     "execution_count": 28,
     "metadata": {},
     "output_type": "execute_result"
    }
   ],
   "source": [
    "df3"
   ],
   "metadata": {
    "collapsed": false,
    "pycharm": {
     "name": "#%%\n"
    }
   }
  },
  {
   "cell_type": "code",
   "execution_count": 29,
   "outputs": [
    {
     "data": {
      "text/plain": "             username  isGazp  isMgnt  isSber  isYndx  threadNum\n185    Карим Тактуров       1       1       1       1          4\n243  Тимофей Мартынов       1       1       1       1          4",
      "text/html": "<div>\n<style scoped>\n    .dataframe tbody tr th:only-of-type {\n        vertical-align: middle;\n    }\n\n    .dataframe tbody tr th {\n        vertical-align: top;\n    }\n\n    .dataframe thead th {\n        text-align: right;\n    }\n</style>\n<table border=\"1\" class=\"dataframe\">\n  <thead>\n    <tr style=\"text-align: right;\">\n      <th></th>\n      <th>username</th>\n      <th>isGazp</th>\n      <th>isMgnt</th>\n      <th>isSber</th>\n      <th>isYndx</th>\n      <th>threadNum</th>\n    </tr>\n  </thead>\n  <tbody>\n    <tr>\n      <th>185</th>\n      <td>Карим Тактуров</td>\n      <td>1</td>\n      <td>1</td>\n      <td>1</td>\n      <td>1</td>\n      <td>4</td>\n    </tr>\n    <tr>\n      <th>243</th>\n      <td>Тимофей Мартынов</td>\n      <td>1</td>\n      <td>1</td>\n      <td>1</td>\n      <td>1</td>\n      <td>4</td>\n    </tr>\n  </tbody>\n</table>\n</div>"
     },
     "execution_count": 29,
     "metadata": {},
     "output_type": "execute_result"
    }
   ],
   "source": [
    "df4 = df[df['threadNum'] >= 4]\n",
    "df4"
   ],
   "metadata": {
    "collapsed": false,
    "pycharm": {
     "name": "#%%\n"
    }
   }
  },
  {
   "cell_type": "code",
   "execution_count": 30,
   "outputs": [],
   "source": [
    "df3.reset_index(drop=True , inplace= True)"
   ],
   "metadata": {
    "collapsed": false,
    "pycharm": {
     "name": "#%%\n"
    }
   }
  },
  {
   "cell_type": "code",
   "execution_count": 31,
   "outputs": [
    {
     "data": {
      "text/plain": "            username  isGazp  isMgnt  isSber  isYndx  threadNum\n0         Nordstream       1       1       0       1          3\n1     khornickjaadle       1       0       1       1          3\n2         stanislava       1       1       0       1          3\n3    Абросимов Павел       1       1       0       1          3\n4        Вася Баффет       1       1       0       1          3\n5     Дмитрий Первый       1       1       1       0          3\n6    Дмитрий Шабалов       1       1       1       0          3\n7     Карим Тактуров       1       1       1       1          4\n8     Сергей Пирогов       1       1       0       1          3\n9        Созерцатель       1       1       1       0          3\n10  Тимофей Мартынов       1       1       1       1          4\n11       ✔  ⓈⒺⓇⒼⒾⓄ:Ⓩ       1       1       0       1          3",
      "text/html": "<div>\n<style scoped>\n    .dataframe tbody tr th:only-of-type {\n        vertical-align: middle;\n    }\n\n    .dataframe tbody tr th {\n        vertical-align: top;\n    }\n\n    .dataframe thead th {\n        text-align: right;\n    }\n</style>\n<table border=\"1\" class=\"dataframe\">\n  <thead>\n    <tr style=\"text-align: right;\">\n      <th></th>\n      <th>username</th>\n      <th>isGazp</th>\n      <th>isMgnt</th>\n      <th>isSber</th>\n      <th>isYndx</th>\n      <th>threadNum</th>\n    </tr>\n  </thead>\n  <tbody>\n    <tr>\n      <th>0</th>\n      <td>Nordstream</td>\n      <td>1</td>\n      <td>1</td>\n      <td>0</td>\n      <td>1</td>\n      <td>3</td>\n    </tr>\n    <tr>\n      <th>1</th>\n      <td>khornickjaadle</td>\n      <td>1</td>\n      <td>0</td>\n      <td>1</td>\n      <td>1</td>\n      <td>3</td>\n    </tr>\n    <tr>\n      <th>2</th>\n      <td>stanislava</td>\n      <td>1</td>\n      <td>1</td>\n      <td>0</td>\n      <td>1</td>\n      <td>3</td>\n    </tr>\n    <tr>\n      <th>3</th>\n      <td>Абросимов Павел</td>\n      <td>1</td>\n      <td>1</td>\n      <td>0</td>\n      <td>1</td>\n      <td>3</td>\n    </tr>\n    <tr>\n      <th>4</th>\n      <td>Вася Баффет</td>\n      <td>1</td>\n      <td>1</td>\n      <td>0</td>\n      <td>1</td>\n      <td>3</td>\n    </tr>\n    <tr>\n      <th>5</th>\n      <td>Дмитрий Первый</td>\n      <td>1</td>\n      <td>1</td>\n      <td>1</td>\n      <td>0</td>\n      <td>3</td>\n    </tr>\n    <tr>\n      <th>6</th>\n      <td>Дмитрий Шабалов</td>\n      <td>1</td>\n      <td>1</td>\n      <td>1</td>\n      <td>0</td>\n      <td>3</td>\n    </tr>\n    <tr>\n      <th>7</th>\n      <td>Карим Тактуров</td>\n      <td>1</td>\n      <td>1</td>\n      <td>1</td>\n      <td>1</td>\n      <td>4</td>\n    </tr>\n    <tr>\n      <th>8</th>\n      <td>Сергей Пирогов</td>\n      <td>1</td>\n      <td>1</td>\n      <td>0</td>\n      <td>1</td>\n      <td>3</td>\n    </tr>\n    <tr>\n      <th>9</th>\n      <td>Созерцатель</td>\n      <td>1</td>\n      <td>1</td>\n      <td>1</td>\n      <td>0</td>\n      <td>3</td>\n    </tr>\n    <tr>\n      <th>10</th>\n      <td>Тимофей Мартынов</td>\n      <td>1</td>\n      <td>1</td>\n      <td>1</td>\n      <td>1</td>\n      <td>4</td>\n    </tr>\n    <tr>\n      <th>11</th>\n      <td>✔  ⓈⒺⓇⒼⒾⓄ:Ⓩ</td>\n      <td>1</td>\n      <td>1</td>\n      <td>0</td>\n      <td>1</td>\n      <td>3</td>\n    </tr>\n  </tbody>\n</table>\n</div>"
     },
     "execution_count": 31,
     "metadata": {},
     "output_type": "execute_result"
    }
   ],
   "source": [
    "df3"
   ],
   "metadata": {
    "collapsed": false,
    "pycharm": {
     "name": "#%%\n"
    }
   }
  },
  {
   "cell_type": "code",
   "execution_count": 32,
   "outputs": [],
   "source": [
    "df_corr = df.drop(columns=['username', 'threadNum'])"
   ],
   "metadata": {
    "collapsed": false,
    "pycharm": {
     "name": "#%%\n"
    }
   }
  },
  {
   "cell_type": "code",
   "execution_count": 33,
   "outputs": [
    {
     "data": {
      "text/plain": "<Figure size 1000x600 with 2 Axes>",
      "image/png": "[encoded data removed]"
     },
     "metadata": {},
     "output_type": "display_data"
    }
   ],
   "source": [
    "import seaborn as sns\n",
    "# Let's also draw a heatmap visualization of the correlation matrix\n",
    "corr_matrix = df_corr.corr(method='spearman')\n",
    "f, ax = plt.subplots(figsize=(10, 6))\n",
    "\n",
    "colormap = sns.color_palette(\"coolwarm\" , as_cmap=True ) #\"Reds\" \"tab10\" \"vlag\"\n",
    "\n",
    "sns.heatmap(corr_matrix, annot=True, fmt='.2f', linewidth=0.4,\n",
    "            annot_kws={\"size\": 10}, cmap=colormap,  ax=ax) #cmap='coolwarm' cmap=\"crest\",\n",
    "plt.xticks(fontsize=10)\n",
    "plt.yticks(fontsize=10)\n",
    "plt.show()"
   ],
   "metadata": {
    "collapsed": false,
    "pycharm": {
     "name": "#%%\n"
    }
   }
  },
  {
   "cell_type": "code",
   "execution_count": 35,
   "outputs": [
    {
     "data": {
      "text/plain": "               username  isGazp  isMgnt  isSber  isYndx  threadNum\n0    (Конрад Карлович )       1       0       0       0          1\n1                   111       1       0       0       0          1\n2                   1SV       0       0       1       0          1\n3               A.Demin       0       1       0       0          1\n4             ALEXXX444       0       1       0       0          1\n..                  ...     ...     ...     ...     ...        ...\n256              не бык       0       0       1       0          1\n257            ольга ан       0       1       0       0          1\n258                 сем       1       0       0       0          1\n259                юрий       0       0       0       1          1\n260         ✔  ⓈⒺⓇⒼⒾⓄ:Ⓩ       1       1       0       1          3\n\n[261 rows x 6 columns]",
      "text/html": "<div>\n<style scoped>\n    .dataframe tbody tr th:only-of-type {\n        vertical-align: middle;\n    }\n\n    .dataframe tbody tr th {\n        vertical-align: top;\n    }\n\n    .dataframe thead th {\n        text-align: right;\n    }\n</style>\n<table border=\"1\" class=\"dataframe\">\n  <thead>\n    <tr style=\"text-align: right;\">\n      <th></th>\n      <th>username</th>\n      <th>isGazp</th>\n      <th>isMgnt</th>\n      <th>isSber</th>\n      <th>isYndx</th>\n      <th>threadNum</th>\n    </tr>\n  </thead>\n  <tbody>\n    <tr>\n      <th>0</th>\n      <td>(Конрад Карлович )</td>\n      <td>1</td>\n      <td>0</td>\n      <td>0</td>\n      <td>0</td>\n      <td>1</td>\n    </tr>\n    <tr>\n      <th>1</th>\n      <td>111</td>\n      <td>1</td>\n      <td>0</td>\n      <td>0</td>\n      <td>0</td>\n      <td>1</td>\n    </tr>\n    <tr>\n      <th>2</th>\n      <td>1SV</td>\n      <td>0</td>\n      <td>0</td>\n      <td>1</td>\n      <td>0</td>\n      <td>1</td>\n    </tr>\n    <tr>\n      <th>3</th>\n      <td>A.Demin</td>\n      <td>0</td>\n      <td>1</td>\n      <td>0</td>\n      <td>0</td>\n      <td>1</td>\n    </tr>\n    <tr>\n      <th>4</th>\n      <td>ALEXXX444</td>\n      <td>0</td>\n      <td>1</td>\n      <td>0</td>\n      <td>0</td>\n      <td>1</td>\n    </tr>\n    <tr>\n      <th>...</th>\n      <td>...</td>\n      <td>...</td>\n      <td>...</td>\n      <td>...</td>\n      <td>...</td>\n      <td>...</td>\n    </tr>\n    <tr>\n      <th>256</th>\n      <td>не бык</td>\n      <td>0</td>\n      <td>0</td>\n      <td>1</td>\n      <td>0</td>\n      <td>1</td>\n    </tr>\n    <tr>\n      <th>257</th>\n      <td>ольга ан</td>\n      <td>0</td>\n      <td>1</td>\n      <td>0</td>\n      <td>0</td>\n      <td>1</td>\n    </tr>\n    <tr>\n      <th>258</th>\n      <td>сем</td>\n      <td>1</td>\n      <td>0</td>\n      <td>0</td>\n      <td>0</td>\n      <td>1</td>\n    </tr>\n    <tr>\n      <th>259</th>\n      <td>юрий</td>\n      <td>0</td>\n      <td>0</td>\n      <td>0</td>\n      <td>1</td>\n      <td>1</td>\n    </tr>\n    <tr>\n      <th>260</th>\n      <td>✔  ⓈⒺⓇⒼⒾⓄ:Ⓩ</td>\n      <td>1</td>\n      <td>1</td>\n      <td>0</td>\n      <td>1</td>\n      <td>3</td>\n    </tr>\n  </tbody>\n</table>\n<p>261 rows × 6 columns</p>\n</div>"
     },
     "execution_count": 35,
     "metadata": {},
     "output_type": "execute_result"
    }
   ],
   "source": [
    "df"
   ],
   "metadata": {
    "collapsed": false,
    "pycharm": {
     "name": "#%%\n"
    }
   }
  },
  {
   "cell_type": "code",
   "execution_count": 38,
   "outputs": [
    {
     "data": {
      "text/plain": "            username  isGazp  isMgnt  isSber  isYndx  threadNum\n0         Nordstream       1       1       0       1          3\n1     khornickjaadle       1       0       1       1          3\n2         stanislava       1       1       0       1          3\n3    Абросимов Павел       1       1       0       1          3\n4        Вася Баффет       1       1       0       1          3\n5     Дмитрий Первый       1       1       1       0          3\n6    Дмитрий Шабалов       1       1       1       0          3\n7     Карим Тактуров       1       1       1       1          4\n8     Сергей Пирогов       1       1       0       1          3\n9        Созерцатель       1       1       1       0          3\n10  Тимофей Мартынов       1       1       1       1          4\n11       ✔  ⓈⒺⓇⒼⒾⓄ:Ⓩ       1       1       0       1          3",
      "text/html": "<div>\n<style scoped>\n    .dataframe tbody tr th:only-of-type {\n        vertical-align: middle;\n    }\n\n    .dataframe tbody tr th {\n        vertical-align: top;\n    }\n\n    .dataframe thead th {\n        text-align: right;\n    }\n</style>\n<table border=\"1\" class=\"dataframe\">\n  <thead>\n    <tr style=\"text-align: right;\">\n      <th></th>\n      <th>username</th>\n      <th>isGazp</th>\n      <th>isMgnt</th>\n      <th>isSber</th>\n      <th>isYndx</th>\n      <th>threadNum</th>\n    </tr>\n  </thead>\n  <tbody>\n    <tr>\n      <th>0</th>\n      <td>Nordstream</td>\n      <td>1</td>\n      <td>1</td>\n      <td>0</td>\n      <td>1</td>\n      <td>3</td>\n    </tr>\n    <tr>\n      <th>1</th>\n      <td>khornickjaadle</td>\n      <td>1</td>\n      <td>0</td>\n      <td>1</td>\n      <td>1</td>\n      <td>3</td>\n    </tr>\n    <tr>\n      <th>2</th>\n      <td>stanislava</td>\n      <td>1</td>\n      <td>1</td>\n      <td>0</td>\n      <td>1</td>\n      <td>3</td>\n    </tr>\n    <tr>\n      <th>3</th>\n      <td>Абросимов Павел</td>\n      <td>1</td>\n      <td>1</td>\n      <td>0</td>\n      <td>1</td>\n      <td>3</td>\n    </tr>\n    <tr>\n      <th>4</th>\n      <td>Вася Баффет</td>\n      <td>1</td>\n      <td>1</td>\n      <td>0</td>\n      <td>1</td>\n      <td>3</td>\n    </tr>\n    <tr>\n      <th>5</th>\n      <td>Дмитрий Первый</td>\n      <td>1</td>\n      <td>1</td>\n      <td>1</td>\n      <td>0</td>\n      <td>3</td>\n    </tr>\n    <tr>\n      <th>6</th>\n      <td>Дмитрий Шабалов</td>\n      <td>1</td>\n      <td>1</td>\n      <td>1</td>\n      <td>0</td>\n      <td>3</td>\n    </tr>\n    <tr>\n      <th>7</th>\n      <td>Карим Тактуров</td>\n      <td>1</td>\n      <td>1</td>\n      <td>1</td>\n      <td>1</td>\n      <td>4</td>\n    </tr>\n    <tr>\n      <th>8</th>\n      <td>Сергей Пирогов</td>\n      <td>1</td>\n      <td>1</td>\n      <td>0</td>\n      <td>1</td>\n      <td>3</td>\n    </tr>\n    <tr>\n      <th>9</th>\n      <td>Созерцатель</td>\n      <td>1</td>\n      <td>1</td>\n      <td>1</td>\n      <td>0</td>\n      <td>3</td>\n    </tr>\n    <tr>\n      <th>10</th>\n      <td>Тимофей Мартынов</td>\n      <td>1</td>\n      <td>1</td>\n      <td>1</td>\n      <td>1</td>\n      <td>4</td>\n    </tr>\n    <tr>\n      <th>11</th>\n      <td>✔  ⓈⒺⓇⒼⒾⓄ:Ⓩ</td>\n      <td>1</td>\n      <td>1</td>\n      <td>0</td>\n      <td>1</td>\n      <td>3</td>\n    </tr>\n  </tbody>\n</table>\n</div>"
     },
     "execution_count": 38,
     "metadata": {},
     "output_type": "execute_result"
    }
   ],
   "source": [
    "df3"
   ],
   "metadata": {
    "collapsed": false,
    "pycharm": {
     "name": "#%%\n"
    }
   }
  },
  {
   "cell_type": "code",
   "execution_count": 39,
   "outputs": [
    {
     "name": "stdout",
     "output_type": "stream",
     "text": [
      "['Nordstream', 'khornickjaadle', 'stanislava', 'Абросимов Павел', 'Вася Баффет', 'Дмитрий Первый', 'Дмитрий Шабалов', 'Карим Тактуров', 'Сергей Пирогов', 'Созерцатель', 'Тимофей Мартынов', '✔  ⓈⒺⓇⒼⒾⓄ:Ⓩ']\n"
     ]
    }
   ],
   "source": [
    "print(list(df3.username))"
   ],
   "metadata": {
    "collapsed": false,
    "pycharm": {
     "name": "#%%\n"
    }
   }
  },
  {
   "cell_type": "code",
   "execution_count": 43,
   "outputs": [],
   "source": [
    "#df3.to_csv('mvpDataSet.csv')"
   ],
   "metadata": {
    "collapsed": false,
    "pycharm": {
     "name": "#%%\n"
    }
   }
  },
  {
   "cell_type": "code",
   "execution_count": 45,
   "outputs": [],
   "source": [
    "df_opinions = pd.read_csv('mvpDataSet.csv')"
   ],
   "metadata": {
    "collapsed": false,
    "pycharm": {
     "name": "#%%\n"
    }
   }
  },
  {
   "cell_type": "code",
   "execution_count": 46,
   "outputs": [
    {
     "data": {
      "text/plain": "    Unnamed: 0          username  isGazp  isMgnt  isSber  isYndx  threadNum  \\\n0            0        Nordstream       1       1       0       1          3   \n1            1    khornickjaadle       1       0       1       1          3   \n2            2        stanislava       1       1       0       1          3   \n3            3   Абросимов Павел       1       1       0       1          3   \n4            4       Вася Баффет       1       1       0       1          3   \n5            5    Дмитрий Первый       1       1       1       0          3   \n6            6   Дмитрий Шабалов       1       1       1       0          3   \n7            7    Карим Тактуров       1       1       1       1          4   \n8            8    Сергей Пирогов       1       1       0       1          3   \n9            9       Созерцатель       1       1       1       0          3   \n10          10  Тимофей Мартынов       1       1       1       1          4   \n11          11       ✔  ⓈⒺⓇⒼⒾⓄ:Ⓩ       1       1       0       1          3   \n\n    GazpPos  MgntPos  SberPos  YndxPos  \n0         1        1      NaN      1.0  \n1         1        0      1.0      NaN  \n2         1        1      NaN      1.0  \n3         1        1      NaN      0.0  \n4         0        1      NaN      0.0  \n5         0        0      0.0      NaN  \n6         0        0      1.0      NaN  \n7         1        1      0.0      1.0  \n8         0        1      NaN      0.0  \n9         0        0      0.0      NaN  \n10        0        1      1.0      1.0  \n11        0        0      0.0      1.0  ",
      "text/html": "<div>\n<style scoped>\n    .dataframe tbody tr th:only-of-type {\n        vertical-align: middle;\n    }\n\n    .dataframe tbody tr th {\n        vertical-align: top;\n    }\n\n    .dataframe thead th {\n        text-align: right;\n    }\n</style>\n<table border=\"1\" class=\"dataframe\">\n  <thead>\n    <tr style=\"text-align: right;\">\n      <th></th>\n      <th>Unnamed: 0</th>\n      <th>username</th>\n      <th>isGazp</th>\n      <th>isMgnt</th>\n      <th>isSber</th>\n      <th>isYndx</th>\n      <th>threadNum</th>\n      <th>GazpPos</th>\n      <th>MgntPos</th>\n      <th>SberPos</th>\n      <th>YndxPos</th>\n    </tr>\n  </thead>\n  <tbody>\n    <tr>\n      <th>0</th>\n      <td>0</td>\n      <td>Nordstream</td>\n      <td>1</td>\n      <td>1</td>\n      <td>0</td>\n      <td>1</td>\n      <td>3</td>\n      <td>1</td>\n      <td>1</td>\n      <td>NaN</td>\n      <td>1.0</td>\n    </tr>\n    <tr>\n      <th>1</th>\n      <td>1</td>\n      <td>khornickjaadle</td>\n      <td>1</td>\n      <td>0</td>\n      <td>1</td>\n      <td>1</td>\n      <td>3</td>\n      <td>1</td>\n      <td>0</td>\n      <td>1.0</td>\n      <td>NaN</td>\n    </tr>\n    <tr>\n      <th>2</th>\n      <td>2</td>\n      <td>stanislava</td>\n      <td>1</td>\n      <td>1</td>\n      <td>0</td>\n      <td>1</td>\n      <td>3</td>\n      <td>1</td>\n      <td>1</td>\n      <td>NaN</td>\n      <td>1.0</td>\n    </tr>\n    <tr>\n      <th>3</th>\n      <td>3</td>\n      <td>Абросимов Павел</td>\n      <td>1</td>\n      <td>1</td>\n      <td>0</td>\n      <td>1</td>\n      <td>3</td>\n      <td>1</td>\n      <td>1</td>\n      <td>NaN</td>\n      <td>0.0</td>\n    </tr>\n    <tr>\n      <th>4</th>\n      <td>4</td>\n      <td>Вася Баффет</td>\n      <td>1</td>\n      <td>1</td>\n      <td>0</td>\n      <td>1</td>\n      <td>3</td>\n      <td>0</td>\n      <td>1</td>\n      <td>NaN</td>\n      <td>0.0</td>\n    </tr>\n    <tr>\n      <th>5</th>\n      <td>5</td>\n      <td>Дмитрий Первый</td>\n      <td>1</td>\n      <td>1</td>\n      <td>1</td>\n      <td>0</td>\n      <td>3</td>\n      <td>0</td>\n      <td>0</td>\n      <td>0.0</td>\n      <td>NaN</td>\n    </tr>\n    <tr>\n      <th>6</th>\n      <td>6</td>\n      <td>Дмитрий Шабалов</td>\n      <td>1</td>\n      <td>1</td>\n      <td>1</td>\n      <td>0</td>\n      <td>3</td>\n      <td>0</td>\n      <td>0</td>\n      <td>1.0</td>\n      <td>NaN</td>\n    </tr>\n    <tr>\n      <th>7</th>\n      <td>7</td>\n      <td>Карим Тактуров</td>\n      <td>1</td>\n      <td>1</td>\n      <td>1</td>\n      <td>1</td>\n      <td>4</td>\n      <td>1</td>\n      <td>1</td>\n      <td>0.0</td>\n      <td>1.0</td>\n    </tr>\n    <tr>\n      <th>8</th>\n      <td>8</td>\n      <td>Сергей Пирогов</td>\n      <td>1</td>\n      <td>1</td>\n      <td>0</td>\n      <td>1</td>\n      <td>3</td>\n      <td>0</td>\n      <td>1</td>\n      <td>NaN</td>\n      <td>0.0</td>\n    </tr>\n    <tr>\n      <th>9</th>\n      <td>9</td>\n      <td>Созерцатель</td>\n      <td>1</td>\n      <td>1</td>\n      <td>1</td>\n      <td>0</td>\n      <td>3</td>\n      <td>0</td>\n      <td>0</td>\n      <td>0.0</td>\n      <td>NaN</td>\n    </tr>\n    <tr>\n      <th>10</th>\n      <td>10</td>\n      <td>Тимофей Мартынов</td>\n      <td>1</td>\n      <td>1</td>\n      <td>1</td>\n      <td>1</td>\n      <td>4</td>\n      <td>0</td>\n      <td>1</td>\n      <td>1.0</td>\n      <td>1.0</td>\n    </tr>\n    <tr>\n      <th>11</th>\n      <td>11</td>\n      <td>✔  ⓈⒺⓇⒼⒾⓄ:Ⓩ</td>\n      <td>1</td>\n      <td>1</td>\n      <td>0</td>\n      <td>1</td>\n      <td>3</td>\n      <td>0</td>\n      <td>0</td>\n      <td>0.0</td>\n      <td>1.0</td>\n    </tr>\n  </tbody>\n</table>\n</div>"
     },
     "execution_count": 46,
     "metadata": {},
     "output_type": "execute_result"
    }
   ],
   "source": [
    "df_opinions"
   ],
   "metadata": {
    "collapsed": false,
    "pycharm": {
     "name": "#%%\n"
    }
   }
  },
  {
   "cell_type": "code",
   "execution_count": null,
   "outputs": [],
   "source": [],
   "metadata": {
    "collapsed": false,
    "pycharm": {
     "name": "#%%\n"
    }
   }
  }
 ],
 "metadata": {
  "kernelspec": {
   "display_name": "Python 3",
   "language": "python",
   "name": "python3"
  },
  "language_info": {
   "codemirror_mode": {
    "name": "ipython",
    "version": 2
   },
   "file_extension": ".py",
   "mimetype": "text/x-python",
   "name": "python",
   "nbconvert_exporter": "python",
   "pygments_lexer": "ipython2",
   "version": "2.7.6"
  }
 },
 "nbformat": 4,
 "nbformat_minor": 0
}